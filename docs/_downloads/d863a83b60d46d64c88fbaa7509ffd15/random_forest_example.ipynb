{
  "cells": [
    {
      "cell_type": "code",
      "execution_count": null,
      "metadata": {
        "collapsed": false
      },
      "outputs": [],
      "source": [
        "%matplotlib inline"
      ]
    },
    {
      "cell_type": "markdown",
      "metadata": {},
      "source": [
        "\n# Tuning the hyperparameters of a random forest model with hyperband\n\n"
      ]
    },
    {
      "cell_type": "code",
      "execution_count": null,
      "metadata": {
        "collapsed": false
      },
      "outputs": [],
      "source": [
        "from hyperband import HyperbandSearchCV\n\nfrom scipy.stats import randint as sp_randint\nfrom sklearn.datasets import load_digits\nfrom sklearn.ensemble import RandomForestClassifier\nfrom sklearn.preprocessing import LabelBinarizer\n\n\nif __name__ == '__main__':\n    model = RandomForestClassifier()\n    param_dist = {\n        'max_depth': [3, None],\n        'max_features': sp_randint(1, 11),\n        'min_samples_split': sp_randint(2, 11),\n        'min_samples_leaf': sp_randint(1, 11),\n        'bootstrap': [True, False],\n        'criterion': ['gini', 'entropy']\n    }\n\n    digits = load_digits()\n    X, y = digits.data, digits.target\n    y = LabelBinarizer().fit_transform(y)\n\n    search = HyperbandSearchCV(model, param_dist,\n                               resource_param='n_estimators',\n                               scoring='roc_auc',\n                               n_jobs=1,\n                               verbose=1)\n    search.fit(X, y)\n    print(search.best_params_)\n    print(search.best_score_)"
      ]
    }
  ],
  "metadata": {
    "kernelspec": {
      "display_name": "Python 3",
      "language": "python",
      "name": "python3"
    },
    "language_info": {
      "codemirror_mode": {
        "name": "ipython",
        "version": 3
      },
      "file_extension": ".py",
      "mimetype": "text/x-python",
      "name": "python",
      "nbconvert_exporter": "python",
      "pygments_lexer": "ipython3",
      "version": "3.7.3"
    }
  },
  "nbformat": 4,
  "nbformat_minor": 0
}